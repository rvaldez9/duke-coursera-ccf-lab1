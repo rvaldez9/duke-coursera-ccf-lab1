{
  "cells": [
    {
      "cell_type": "markdown",
      "metadata": {
        "id": "view-in-github",
        "colab_type": "text"
      },
      "source": [
        "<a href=\"https://colab.research.google.com/github/rvaldez9/duke-coursera-ccf-lab1/blob/main/Practice_MarkdownColab.ipynb\" target=\"_parent\"><img src=\"https://colab.research.google.com/assets/colab-badge.svg\" alt=\"Open In Colab\"/></a>"
      ]
    },
    {
      "cell_type": "markdown",
      "metadata": {
        "id": "7fM46HNc2eLr"
      },
      "source": [
        "## Practice Markdown RVB iwith Colab"
      ]
    },
    {
      "cell_type": "markdown",
      "metadata": {
        "id": "qXGz4gpz2eLv"
      },
      "source": [
        "This notebook lets you experiment with producing repeatable technical documentation.  Use this notebook to do the following actions:\n",
        "\n",
        "* Create a code cell and print a Python Hello World statement:  `print(\"hello world\")`\n",
        "* Create a Markdown Cell and add a Title using `#` and then a statement using plain text.  You can looks at the source code for this cell to get an idea of how to use Markdown.\n",
        "* Take some ideas from the [Master Markdown Github Guide](https://guides.github.com/features/mastering-markdown/) and implement them here.\n",
        "* Download this notebook as a `.ipynb` file and check into a Github Project.  You can [see an example here](https://github.com/noahgift/duke-coursera-ccf-lab1/blob/main/Practice-Markdown.ipynb).\n",
        "* Open your notebook in Google Colab and save it into the same Github Project.  You can [see an example here](https://github.com/noahgift/duke-coursera-ccf-lab1/blob/main/Practice_Markdown_with_colab.ipynb).\n"
      ]
    },
    {
      "cell_type": "code",
      "execution_count": 1,
      "metadata": {
        "colab": {
          "base_uri": "https://localhost:8080/"
        },
        "id": "qdbQ87502eLw",
        "outputId": "0ae13a7a-d3fe-46a4-f93b-d832bea18a88"
      },
      "outputs": [
        {
          "output_type": "stream",
          "name": "stdout",
          "text": [
            "hello word\n"
          ]
        }
      ],
      "source": [
        "print(\"hello word\")"
      ]
    },
    {
      "cell_type": "markdown",
      "metadata": {
        "id": "1eKuvZuK2eLy"
      },
      "source": [
        "# Lab Markdown\n",
        "Laboatorio para la practica de Markdown"
      ]
    },
    {
      "cell_type": "markdown",
      "metadata": {
        "id": "Uvi7xP3B2eLz"
      },
      "source": [
        "# Nivel 1\n",
        "## Nivel 2\n",
        "###### Nivel 3"
      ]
    },
    {
      "cell_type": "markdown",
      "metadata": {
        "id": "kVS1JCTc2eLz"
      },
      "source": [
        "# Nivel 1.1"
      ]
    },
    {
      "cell_type": "markdown",
      "metadata": {
        "id": "JfoveN4h2eL0"
      },
      "source": [
        "use `git status` to list"
      ]
    },
    {
      "cell_type": "markdown",
      "metadata": {
        "id": "1Z13gIet2eL0"
      },
      "source": [
        "Some basic Git commands are:\n",
        "```\n",
        "git status\n",
        "git add\n",
        "git commit\n",
        "```"
      ]
    },
    {
      "cell_type": "markdown",
      "metadata": {
        "id": "UHBnba7D2eL1"
      },
      "source": [
        "The background color should be `#ffffff` for light mode and `#0d1117` for dark mode."
      ]
    },
    {
      "cell_type": "markdown",
      "metadata": {
        "id": "663oT3d52eL2"
      },
      "source": [
        "This site was built using [GitHub Pages](https://pages.github.com/)."
      ]
    }
  ],
  "metadata": {
    "kernelspec": {
      "display_name": "Python 3",
      "language": "python",
      "name": "python3"
    },
    "language_info": {
      "codemirror_mode": {
        "name": "ipython",
        "version": 3
      },
      "file_extension": ".py",
      "mimetype": "text/x-python",
      "name": "python",
      "nbconvert_exporter": "python",
      "pygments_lexer": "ipython3",
      "version": "3.7.6"
    },
    "colab": {
      "name": "Practice-Markdown.ipynb",
      "provenance": [],
      "include_colab_link": true
    }
  },
  "nbformat": 4,
  "nbformat_minor": 0
}